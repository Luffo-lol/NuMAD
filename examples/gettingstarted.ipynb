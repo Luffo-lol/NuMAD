{
 "cells": [
  {
   "cell_type": "code",
   "execution_count": 2,
   "metadata": {},
   "outputs": [],
   "source": [
    "from os.path import join\n",
    "from pynumad import Blade"
   ]
  },
  {
   "cell_type": "code",
   "execution_count": 3,
   "metadata": {},
   "outputs": [],
   "source": [
    "datapath = join(\"..\",\"data\")"
   ]
  },
  {
   "cell_type": "code",
   "execution_count": 4,
   "metadata": {},
   "outputs": [],
   "source": [
    "blade = Blade()\n",
    "blade.read_excel(join(datapath,\"Excel2ObjectExample.xlsx\"))"
   ]
  },
  {
   "cell_type": "code",
   "execution_count": 5,
   "metadata": {},
   "outputs": [
    {
     "data": {
      "text/plain": [
       "array([3.386     , 3.386     , 3.386     , 4.557     , 4.652     ,\n",
       "       4.50603872, 4.249     , 4.007     , 3.748     , 3.502     ,\n",
       "       3.256     , 3.01      , 2.764     , 2.518     , 2.313     ,\n",
       "       2.086     , 1.419     , 1.0855    ])"
      ]
     },
     "execution_count": 5,
     "metadata": {},
     "output_type": "execute_result"
    }
   ],
   "source": [
    "blade.chord"
   ]
  },
  {
   "cell_type": "code",
   "execution_count": 6,
   "metadata": {},
   "outputs": [
    {
     "name": "stdout",
     "output_type": "stream",
     "text": [
      "No fatigue exponent found for material: Gelcoat\n",
      "No fatigue exponent found for material: Adhesive\n",
      "Warning! material ply thickness medium_density_foam not defined, assuming 1 mm thickness\n",
      "No fatigue exponent found for material: medium_density_foam\n",
      "Warning! material ply thickness resin not defined, assuming 1 mm thickness\n",
      "No fatigue exponent found for material: resin\n",
      "Warning! material ply thickness steel not defined, assuming 1 mm thickness\n",
      "No fatigue exponent found for material: steel\n"
     ]
    },
    {
     "name": "stderr",
     "output_type": "stream",
     "text": [
      "/home/klbonne/.local/bin/anaconda3/envs/pynumad_dev/lib/python3.8/site-packages/numpy/core/fromnumeric.py:3432: RuntimeWarning: Mean of empty slice.\n",
      "  return _methods._mean(a, axis=axis, dtype=dtype,\n",
      "/home/klbonne/.local/bin/anaconda3/envs/pynumad_dev/lib/python3.8/site-packages/numpy/core/_methods.py:190: RuntimeWarning: invalid value encountered in double_scalars\n",
      "  ret = ret.dtype.type(ret / rcount)\n"
     ]
    }
   ],
   "source": [
    "blade2 = Blade(join(datapath, \"blade_yamls\", \"BAR0_NREL_1_4_2021.yaml\"))"
   ]
  },
  {
   "cell_type": "code",
   "execution_count": 7,
   "metadata": {},
   "outputs": [
    {
     "data": {
      "text/plain": [
       "array([4.5       , 4.51653455, 4.59255455, 4.72026865, 4.87845037,\n",
       "       5.04235972, 5.18880397, 5.29555399, 5.33889615, 5.27996547,\n",
       "       5.13049713, 4.93201208, 4.72694825, 4.52910314, 4.30815493,\n",
       "       4.07109567, 3.83078655, 3.59377787, 3.3535724 , 3.10972681,\n",
       "       2.86394905, 2.61780457, 2.37255549, 2.12536608, 1.87360817,\n",
       "       1.6133977 , 1.34551447, 1.07050448, 0.78813172, 0.5       ])"
      ]
     },
     "execution_count": 7,
     "metadata": {},
     "output_type": "execute_result"
    }
   ],
   "source": [
    "blade2.chord"
   ]
  }
 ],
 "metadata": {
  "kernelspec": {
   "display_name": "pynumad_dev",
   "language": "python",
   "name": "python3"
  },
  "language_info": {
   "codemirror_mode": {
    "name": "ipython",
    "version": 3
   },
   "file_extension": ".py",
   "mimetype": "text/x-python",
   "name": "python",
   "nbconvert_exporter": "python",
   "pygments_lexer": "ipython3",
   "version": "3.8.15"
  },
  "orig_nbformat": 4,
  "vscode": {
   "interpreter": {
    "hash": "ba674c09f1f0848b2fbf056d887b4fc7c439e19ef790e5a5121ff7e500d5b97d"
   }
  }
 },
 "nbformat": 4,
 "nbformat_minor": 2
}
